{
 "cells": [
  {
   "cell_type": "code",
   "execution_count": 1,
   "metadata": {},
   "outputs": [],
   "source": [
    "from qiskit import *"
   ]
  },
  {
   "cell_type": "code",
   "execution_count": 2,
   "metadata": {},
   "outputs": [],
   "source": [
    "# API Token at https://quantum-computing.ibm.com/\n",
    "\n",
    "IBMQ.save_account(\"2e24a159540abec4fb12ba0000114026c0bb1fd1406d001ee23e2b62811926403d8d9383c1b98b06713d0efd802492ffad613a90646ef43ae14ecd2e6801198e\")"
   ]
  },
  {
   "cell_type": "code",
   "execution_count": 3,
   "metadata": {},
   "outputs": [
    {
     "ename": "RequestsApiError",
     "evalue": "'401 Client Error: Unauthorized for url: https://auth.quantum-computing.ibm.com/api/users/loginWithToken. Login with some authorized provider required., Error code: 3445.'",
     "output_type": "error",
     "traceback": [
      "\u001b[0;31m---------------------------------------------------------------------------\u001b[0m",
      "\u001b[0;31mHTTPError\u001b[0m                                 Traceback (most recent call last)",
      "File \u001b[0;32m/Library/Frameworks/Python.framework/Versions/3.10/lib/python3.10/site-packages/qiskit/providers/ibmq/api/session.py:278\u001b[0m, in \u001b[0;36mRetrySession.request\u001b[0;34m(self, method, url, bare, **kwargs)\u001b[0m\n\u001b[1;32m    277\u001b[0m     response \u001b[39m=\u001b[39m \u001b[39msuper\u001b[39m()\u001b[39m.\u001b[39mrequest(method, final_url, headers\u001b[39m=\u001b[39mheaders, \u001b[39m*\u001b[39m\u001b[39m*\u001b[39mkwargs)\n\u001b[0;32m--> 278\u001b[0m     response\u001b[39m.\u001b[39;49mraise_for_status()\n\u001b[1;32m    279\u001b[0m \u001b[39mexcept\u001b[39;00m RequestException \u001b[39mas\u001b[39;00m ex:\n\u001b[1;32m    280\u001b[0m     \u001b[39m# Wrap the requests exceptions into a IBM Q custom one, for\u001b[39;00m\n\u001b[1;32m    281\u001b[0m     \u001b[39m# compatibility.\u001b[39;00m\n",
      "File \u001b[0;32m/Library/Frameworks/Python.framework/Versions/3.10/lib/python3.10/site-packages/requests/models.py:1021\u001b[0m, in \u001b[0;36mResponse.raise_for_status\u001b[0;34m(self)\u001b[0m\n\u001b[1;32m   1020\u001b[0m \u001b[39mif\u001b[39;00m http_error_msg:\n\u001b[0;32m-> 1021\u001b[0m     \u001b[39mraise\u001b[39;00m HTTPError(http_error_msg, response\u001b[39m=\u001b[39m\u001b[39mself\u001b[39m)\n",
      "\u001b[0;31mHTTPError\u001b[0m: 401 Client Error: Unauthorized for url: https://auth.quantum-computing.ibm.com/api/users/loginWithToken",
      "\nThe above exception was the direct cause of the following exception:\n",
      "\u001b[0;31mRequestsApiError\u001b[0m                          Traceback (most recent call last)",
      "Cell \u001b[0;32mIn[3], line 1\u001b[0m\n\u001b[0;32m----> 1\u001b[0m IBMQ\u001b[39m.\u001b[39;49mload_account()\n",
      "File \u001b[0;32m/Library/Frameworks/Python.framework/Versions/3.10/lib/python3.10/site-packages/qiskit/providers/ibmq/ibmqfactory.py:191\u001b[0m, in \u001b[0;36mIBMQFactory.load_account\u001b[0;34m(self)\u001b[0m\n\u001b[1;32m    187\u001b[0m     logger\u001b[39m.\u001b[39mwarning(\u001b[39m'\u001b[39m\u001b[39mCredentials are already in use. The existing \u001b[39m\u001b[39m'\u001b[39m\n\u001b[1;32m    188\u001b[0m                    \u001b[39m'\u001b[39m\u001b[39maccount in the session will be replaced.\u001b[39m\u001b[39m'\u001b[39m)\n\u001b[1;32m    189\u001b[0m     \u001b[39mself\u001b[39m\u001b[39m.\u001b[39mdisable_account()\n\u001b[0;32m--> 191\u001b[0m \u001b[39mself\u001b[39;49m\u001b[39m.\u001b[39;49m_initialize_providers(credentials, preferences)\n\u001b[1;32m    193\u001b[0m \u001b[39m# Prevent edge case where no hubs are available.\u001b[39;00m\n\u001b[1;32m    194\u001b[0m providers \u001b[39m=\u001b[39m \u001b[39mself\u001b[39m\u001b[39m.\u001b[39mproviders()\n",
      "File \u001b[0;32m/Library/Frameworks/Python.framework/Versions/3.10/lib/python3.10/site-packages/qiskit/providers/ibmq/ibmqfactory.py:456\u001b[0m, in \u001b[0;36mIBMQFactory._initialize_providers\u001b[0;34m(self, credentials, preferences)\u001b[0m\n\u001b[1;32m    446\u001b[0m \u001b[39mdef\u001b[39;00m \u001b[39m_initialize_providers\u001b[39m(\n\u001b[1;32m    447\u001b[0m         \u001b[39mself\u001b[39m, credentials: Credentials,\n\u001b[1;32m    448\u001b[0m         preferences: Optional[Dict] \u001b[39m=\u001b[39m \u001b[39mNone\u001b[39;00m\n\u001b[1;32m    449\u001b[0m ) \u001b[39m-\u001b[39m\u001b[39m>\u001b[39m \u001b[39mNone\u001b[39;00m:\n\u001b[1;32m    450\u001b[0m \u001b[39m    \u001b[39m\u001b[39m\"\"\"Authenticate against IBM Quantum and populate the providers.\u001b[39;00m\n\u001b[1;32m    451\u001b[0m \n\u001b[1;32m    452\u001b[0m \u001b[39m    Args:\u001b[39;00m\n\u001b[1;32m    453\u001b[0m \u001b[39m        credentials: Credentials for IBM Quantum.\u001b[39;00m\n\u001b[1;32m    454\u001b[0m \u001b[39m        preferences: Account preferences.\u001b[39;00m\n\u001b[1;32m    455\u001b[0m \u001b[39m    \"\"\"\u001b[39;00m\n\u001b[0;32m--> 456\u001b[0m     auth_client \u001b[39m=\u001b[39m AuthClient(credentials\u001b[39m.\u001b[39;49mtoken,\n\u001b[1;32m    457\u001b[0m                              credentials\u001b[39m.\u001b[39;49mbase_url,\n\u001b[1;32m    458\u001b[0m                              \u001b[39m*\u001b[39;49m\u001b[39m*\u001b[39;49mcredentials\u001b[39m.\u001b[39;49mconnection_parameters())\n\u001b[1;32m    459\u001b[0m     service_urls \u001b[39m=\u001b[39m auth_client\u001b[39m.\u001b[39mcurrent_service_urls()\n\u001b[1;32m    460\u001b[0m     user_hubs \u001b[39m=\u001b[39m auth_client\u001b[39m.\u001b[39muser_hubs()\n",
      "File \u001b[0;32m/Library/Frameworks/Python.framework/Versions/3.10/lib/python3.10/site-packages/qiskit/providers/ibmq/api/clients/auth.py:41\u001b[0m, in \u001b[0;36mAuthClient.__init__\u001b[0;34m(self, api_token, auth_url, **request_kwargs)\u001b[0m\n\u001b[1;32m     38\u001b[0m \u001b[39mself\u001b[39m\u001b[39m.\u001b[39m_service_urls \u001b[39m=\u001b[39m {}  \u001b[39m# type: ignore[var-annotated]\u001b[39;00m\n\u001b[1;32m     40\u001b[0m \u001b[39mself\u001b[39m\u001b[39m.\u001b[39mauth_api \u001b[39m=\u001b[39m Api(RetrySession(auth_url, \u001b[39m*\u001b[39m\u001b[39m*\u001b[39mrequest_kwargs))\n\u001b[0;32m---> 41\u001b[0m \u001b[39mself\u001b[39m\u001b[39m.\u001b[39mbase_api \u001b[39m=\u001b[39m \u001b[39mself\u001b[39;49m\u001b[39m.\u001b[39;49m_init_service_clients(\u001b[39m*\u001b[39;49m\u001b[39m*\u001b[39;49mrequest_kwargs)\n",
      "File \u001b[0;32m/Library/Frameworks/Python.framework/Versions/3.10/lib/python3.10/site-packages/qiskit/providers/ibmq/api/clients/auth.py:53\u001b[0m, in \u001b[0;36mAuthClient._init_service_clients\u001b[0;34m(self, **request_kwargs)\u001b[0m\n\u001b[1;32m     44\u001b[0m \u001b[39m\u001b[39m\u001b[39m\"\"\"Initialize the clients used for communicating with the API.\u001b[39;00m\n\u001b[1;32m     45\u001b[0m \n\u001b[1;32m     46\u001b[0m \u001b[39mArgs:\u001b[39;00m\n\u001b[0;32m   (...)\u001b[0m\n\u001b[1;32m     50\u001b[0m \u001b[39m    Client for the API server.\u001b[39;00m\n\u001b[1;32m     51\u001b[0m \u001b[39m\"\"\"\u001b[39;00m\n\u001b[1;32m     52\u001b[0m \u001b[39m# Request an access token.\u001b[39;00m\n\u001b[0;32m---> 53\u001b[0m access_token \u001b[39m=\u001b[39m \u001b[39mself\u001b[39;49m\u001b[39m.\u001b[39;49m_request_access_token()\n\u001b[1;32m     54\u001b[0m \u001b[39m# Use the token for the next auth server requests.\u001b[39;00m\n\u001b[1;32m     55\u001b[0m \u001b[39mself\u001b[39m\u001b[39m.\u001b[39mauth_api\u001b[39m.\u001b[39msession\u001b[39m.\u001b[39maccess_token \u001b[39m=\u001b[39m access_token\n",
      "File \u001b[0;32m/Library/Frameworks/Python.framework/Versions/3.10/lib/python3.10/site-packages/qiskit/providers/ibmq/api/clients/auth.py:75\u001b[0m, in \u001b[0;36mAuthClient._request_access_token\u001b[0;34m(self)\u001b[0m\n\u001b[1;32m     65\u001b[0m \u001b[39m\u001b[39m\u001b[39m\"\"\"Request a new access token from the API authentication service.\u001b[39;00m\n\u001b[1;32m     66\u001b[0m \n\u001b[1;32m     67\u001b[0m \u001b[39mReturns:\u001b[39;00m\n\u001b[0;32m   (...)\u001b[0m\n\u001b[1;32m     72\u001b[0m \u001b[39m    RequestsApiError: If the request failed.\u001b[39;00m\n\u001b[1;32m     73\u001b[0m \u001b[39m\"\"\"\u001b[39;00m\n\u001b[1;32m     74\u001b[0m \u001b[39mtry\u001b[39;00m:\n\u001b[0;32m---> 75\u001b[0m     response \u001b[39m=\u001b[39m \u001b[39mself\u001b[39;49m\u001b[39m.\u001b[39;49mauth_api\u001b[39m.\u001b[39;49mlogin(\u001b[39mself\u001b[39;49m\u001b[39m.\u001b[39;49mapi_token)\n\u001b[1;32m     76\u001b[0m     \u001b[39mreturn\u001b[39;00m response[\u001b[39m'\u001b[39m\u001b[39mid\u001b[39m\u001b[39m'\u001b[39m]\n\u001b[1;32m     77\u001b[0m \u001b[39mexcept\u001b[39;00m RequestsApiError \u001b[39mas\u001b[39;00m ex:\n\u001b[1;32m     78\u001b[0m     \u001b[39m# Get the original exception that raised.\u001b[39;00m\n",
      "File \u001b[0;32m/Library/Frameworks/Python.framework/Versions/3.10/lib/python3.10/site-packages/qiskit/providers/ibmq/api/rest/root.py:125\u001b[0m, in \u001b[0;36mApi.login\u001b[0;34m(self, api_token)\u001b[0m\n\u001b[1;32m    116\u001b[0m \u001b[39m\u001b[39m\u001b[39m\"\"\"Login with token.\u001b[39;00m\n\u001b[1;32m    117\u001b[0m \n\u001b[1;32m    118\u001b[0m \u001b[39mArgs:\u001b[39;00m\n\u001b[0;32m   (...)\u001b[0m\n\u001b[1;32m    122\u001b[0m \u001b[39m    JSON response.\u001b[39;00m\n\u001b[1;32m    123\u001b[0m \u001b[39m\"\"\"\u001b[39;00m\n\u001b[1;32m    124\u001b[0m url \u001b[39m=\u001b[39m \u001b[39mself\u001b[39m\u001b[39m.\u001b[39mget_url(\u001b[39m'\u001b[39m\u001b[39mlogin\u001b[39m\u001b[39m'\u001b[39m)\n\u001b[0;32m--> 125\u001b[0m \u001b[39mreturn\u001b[39;00m \u001b[39mself\u001b[39;49m\u001b[39m.\u001b[39;49msession\u001b[39m.\u001b[39;49mpost(url, json\u001b[39m=\u001b[39;49m{\u001b[39m'\u001b[39;49m\u001b[39mapiToken\u001b[39;49m\u001b[39m'\u001b[39;49m: api_token})\u001b[39m.\u001b[39mjson()\n",
      "File \u001b[0;32m/Library/Frameworks/Python.framework/Versions/3.10/lib/python3.10/site-packages/requests/sessions.py:635\u001b[0m, in \u001b[0;36mSession.post\u001b[0;34m(self, url, data, json, **kwargs)\u001b[0m\n\u001b[1;32m    624\u001b[0m \u001b[39mdef\u001b[39;00m \u001b[39mpost\u001b[39m(\u001b[39mself\u001b[39m, url, data\u001b[39m=\u001b[39m\u001b[39mNone\u001b[39;00m, json\u001b[39m=\u001b[39m\u001b[39mNone\u001b[39;00m, \u001b[39m*\u001b[39m\u001b[39m*\u001b[39mkwargs):\n\u001b[1;32m    625\u001b[0m \u001b[39m    \u001b[39m\u001b[39mr\u001b[39m\u001b[39m\"\"\"Sends a POST request. Returns :class:`Response` object.\u001b[39;00m\n\u001b[1;32m    626\u001b[0m \n\u001b[1;32m    627\u001b[0m \u001b[39m    :param url: URL for the new :class:`Request` object.\u001b[39;00m\n\u001b[0;32m   (...)\u001b[0m\n\u001b[1;32m    632\u001b[0m \u001b[39m    :rtype: requests.Response\u001b[39;00m\n\u001b[1;32m    633\u001b[0m \u001b[39m    \"\"\"\u001b[39;00m\n\u001b[0;32m--> 635\u001b[0m     \u001b[39mreturn\u001b[39;00m \u001b[39mself\u001b[39;49m\u001b[39m.\u001b[39;49mrequest(\u001b[39m\"\u001b[39;49m\u001b[39mPOST\u001b[39;49m\u001b[39m\"\u001b[39;49m, url, data\u001b[39m=\u001b[39;49mdata, json\u001b[39m=\u001b[39;49mjson, \u001b[39m*\u001b[39;49m\u001b[39m*\u001b[39;49mkwargs)\n",
      "File \u001b[0;32m/Library/Frameworks/Python.framework/Versions/3.10/lib/python3.10/site-packages/qiskit/providers/ibmq/api/session.py:300\u001b[0m, in \u001b[0;36mRetrySession.request\u001b[0;34m(self, method, url, bare, **kwargs)\u001b[0m\n\u001b[1;32m    297\u001b[0m         \u001b[39m# Modify the original message on the chained exceptions.\u001b[39;00m\n\u001b[1;32m    298\u001b[0m         \u001b[39mself\u001b[39m\u001b[39m.\u001b[39m_modify_chained_exception_messages(ex)\n\u001b[0;32m--> 300\u001b[0m     \u001b[39mraise\u001b[39;00m RequestsApiError(message, status_code) \u001b[39mfrom\u001b[39;00m \u001b[39mex\u001b[39;00m\n\u001b[1;32m    302\u001b[0m \u001b[39mreturn\u001b[39;00m response\n",
      "\u001b[0;31mRequestsApiError\u001b[0m: '401 Client Error: Unauthorized for url: https://auth.quantum-computing.ibm.com/api/users/loginWithToken. Login with some authorized provider required., Error code: 3445.'"
     ]
    }
   ],
   "source": [
    "IBMQ.load_account()"
   ]
  },
  {
   "cell_type": "code",
   "execution_count": 4,
   "metadata": {},
   "outputs": [
    {
     "data": {
      "image/png": "[encoded data removed]",
      "text/plain": [
       "<Figure size 206.852x204.68 with 1 Axes>"
      ]
     },
     "execution_count": 4,
     "metadata": {},
     "output_type": "execute_result"
    }
   ],
   "source": [
    "qc = QuantumCircuit(2,1)\n",
    "qc.h(0)\n",
    "qc.x(1)\n",
    "qc.measure(0, 0)\n",
    "qc.draw(output='mpl')\n"
   ]
  },
  {
   "cell_type": "code",
   "execution_count": 24,
   "metadata": {},
   "outputs": [
    {
     "name": "stdout",
     "output_type": "stream",
     "text": [
      "ibmq_quito\n"
     ]
    }
   ],
   "source": [
    "def get_backends():\n",
    "    backends = []\n",
    "    provider = IBMQ.get_provider()\n",
    "    for backend in provider.backends():\n",
    "        try:\n",
    "            num_qubits = len(backend.properties().qubits)\n",
    "        except:\n",
    "            num_qubits = 0\n",
    "        backend = (backend.name(), backend.status().pending_jobs, num_qubits)\n",
    "        backends.append(backend)\n",
    "    return backends\n",
    "def get_best_backend(backends):\n",
    "    max_qubit = max(backends, key=lambda item:item[2])[2]\n",
    "    new_backends = []\n",
    "    for backend in backends:\n",
    "        if backend[2] == max_qubit:\n",
    "            new_backends.append(backend)\n",
    "    new_backends.sort(key = lambda x: x[1])\n",
    "    return new_backends[0][0]\n"
   ]
  },
  {
   "cell_type": "code",
   "execution_count": 25,
   "metadata": {},
   "outputs": [
    {
     "name": "stdout",
     "output_type": "stream",
     "text": [
      "Job Status: job has successfully run\n",
      "None\n"
     ]
    }
   ],
   "source": [
    "backend_name = get_best_backend(get_backends())\n",
    "backend = provider.get_backend(backend_name)\n",
    "jobs = execute(qc, backend=backend, shots = 1)\n",
    "print(tools.job_monitor(jobs))"
   ]
  },
  {
   "cell_type": "code",
   "execution_count": 27,
   "metadata": {},
   "outputs": [
    {
     "name": "stdout",
     "output_type": "stream",
     "text": [
      "{'1': 1}\n"
     ]
    }
   ],
   "source": [
    "result = jobs.result()\n",
    "print(result.get_counts(qc))"
   ]
  }
 ],
 "metadata": {
  "interpreter": {
   "hash": "b6314cf850edbae231b80224200c9e1580e03453e86236ed42ea1b49b1f8d2e3"
  },
  "kernelspec": {
   "display_name": "Python 3.8.0 64-bit",
   "language": "python",
   "name": "python3"
  },
  "language_info": {
   "codemirror_mode": {
    "name": "ipython",
    "version": 3
   },
   "file_extension": ".py",
   "mimetype": "text/x-python",
   "name": "python",
   "nbconvert_exporter": "python",
   "pygments_lexer": "ipython3",
   "version": "3.10.9"
  },
  "orig_nbformat": 4
 },
 "nbformat": 4,
 "nbformat_minor": 2
}
