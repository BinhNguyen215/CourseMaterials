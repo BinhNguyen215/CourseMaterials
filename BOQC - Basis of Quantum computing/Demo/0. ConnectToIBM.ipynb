{
 "cells": [
  {
   "cell_type": "code",
   "execution_count": 1,
   "metadata": {},
   "outputs": [],
   "source": [
    "from qiskit import *"
   ]
  },
  {
   "cell_type": "code",
   "execution_count": 2,
   "metadata": {},
   "outputs": [
    {
     "name": "stderr",
     "output_type": "stream",
     "text": [
      "configrc.store_credentials:WARNING:2021-10-29 14:12:56,021: Credentials already present. Set overwrite=True to overwrite.\n"
     ]
    }
   ],
   "source": [
    "# API Token at https://quantum-computing.ibm.com/\n",
    "\n",
    "IBMQ.save_account(\"2e24a159540abec4fb12ba0000114026c0bb1fd1406d001ee23e2b62811926403d8d9383c1b98b06713d0efd802492ffad613a90646ef43ae14ecd2e6801198e\")"
   ]
  },
  {
   "cell_type": "code",
   "execution_count": 3,
   "metadata": {},
   "outputs": [
    {
     "data": {
      "text/plain": [
       "<AccountProvider for IBMQ(hub='ibm-q', group='open', project='main')>"
      ]
     },
     "execution_count": 3,
     "metadata": {},
     "output_type": "execute_result"
    }
   ],
   "source": [
    "IBMQ.load_account()"
   ]
  },
  {
   "cell_type": "code",
   "execution_count": 4,
   "metadata": {},
   "outputs": [
    {
     "data": {
      "image/png": "[encoded data removed]",
      "text/plain": [
       "<Figure size 206.852x204.68 with 1 Axes>"
      ]
     },
     "execution_count": 4,
     "metadata": {},
     "output_type": "execute_result"
    }
   ],
   "source": [
    "qc = QuantumCircuit(2,1)\n",
    "qc.h(0)\n",
    "qc.x(1)\n",
    "qc.measure(0, 0)\n",
    "qc.draw(output='mpl')\n"
   ]
  },
  {
   "cell_type": "code",
   "execution_count": 24,
   "metadata": {},
   "outputs": [
    {
     "name": "stdout",
     "output_type": "stream",
     "text": [
      "ibmq_quito\n"
     ]
    }
   ],
   "source": [
    "def get_backends():\n",
    "    backends = []\n",
    "    provider = IBMQ.get_provider()\n",
    "    for backend in provider.backends():\n",
    "        try:\n",
    "            num_qubits = len(backend.properties().qubits)\n",
    "        except:\n",
    "            num_qubits = 0\n",
    "        backend = (backend.name(), backend.status().pending_jobs, num_qubits)\n",
    "        backends.append(backend)\n",
    "    return backends\n",
    "def get_best_backend(backends):\n",
    "    max_qubit = max(backends, key=lambda item:item[2])[2]\n",
    "    new_backends = []\n",
    "    for backend in backends:\n",
    "        if backend[2] == max_qubit:\n",
    "            new_backends.append(backend)\n",
    "    new_backends.sort(key = lambda x: x[1])\n",
    "    return new_backends[0][0]\n"
   ]
  },
  {
   "cell_type": "code",
   "execution_count": 25,
   "metadata": {},
   "outputs": [
    {
     "name": "stdout",
     "output_type": "stream",
     "text": [
      "Job Status: job has successfully run\n",
      "None\n"
     ]
    }
   ],
   "source": [
    "backend_name = get_best_backend(get_backends())\n",
    "backend = provider.get_backend(backend_name)\n",
    "jobs = execute(qc, backend=backend, shots = 1)\n",
    "print(tools.job_monitor(jobs))"
   ]
  },
  {
   "cell_type": "code",
   "execution_count": 27,
   "metadata": {},
   "outputs": [
    {
     "name": "stdout",
     "output_type": "stream",
     "text": [
      "{'1': 1}\n"
     ]
    }
   ],
   "source": [
    "result = jobs.result()\n",
    "print(result.get_counts(qc))"
   ]
  }
 ],
 "metadata": {
  "interpreter": {
   "hash": "b0bb45761e06d42ef60a7e329026c016a53b18e4ad51e16529481946724f1b50"
  },
  "kernelspec": {
   "display_name": "Python 3.7.6 64-bit",
   "name": "python3"
  },
  "language_info": {
   "codemirror_mode": {
    "name": "ipython",
    "version": 3
   },
   "file_extension": ".py",
   "mimetype": "text/x-python",
   "name": "python",
   "nbconvert_exporter": "python",
   "pygments_lexer": "ipython3",
   "version": "3.7.6"
  },
  "orig_nbformat": 4
 },
 "nbformat": 4,
 "nbformat_minor": 2
}
